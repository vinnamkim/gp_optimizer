{
 "cells": [
  {
   "cell_type": "code",
   "execution_count": 1,
   "metadata": {},
   "outputs": [],
   "source": [
    "import torch\n",
    "from torch.autograd import Variable\n",
    "import torchvision.transforms as transforms\n",
    "import torchvision.datasets as dsets\n",
    "import numpy as np\n",
    "from torch import optim\n",
    "from torch.nn import CrossEntropyLoss"
   ]
  },
  {
   "cell_type": "code",
   "execution_count": 2,
   "metadata": {},
   "outputs": [],
   "source": [
    "from dqn import DQN\n",
    "from torch.nn.functional import smooth_l1_loss\n",
    "from mlnn import MLNN\n",
    "from replay_memory import ReplayMemory, Transition\n",
    "from training import optimize_dqn\n",
    "import random"
   ]
  },
  {
   "cell_type": "code",
   "execution_count": 3,
   "metadata": {
    "scrolled": true
   },
   "outputs": [],
   "source": [
    "train_dataset = dsets.MNIST(root='./data', train=True, transform=transforms.ToTensor(), download=True)\n",
    "test_dataset = dsets.MNIST(root='./data', train=False, transform=transforms.ToTensor(), download=True)"
   ]
  },
  {
   "cell_type": "code",
   "execution_count": 4,
   "metadata": {},
   "outputs": [],
   "source": [
    "torch.manual_seed(0)\n",
    "torch.cuda.manual_seed(0)\n",
    "np.random.seed(0)\n",
    "random.seed(0)"
   ]
  },
  {
   "cell_type": "code",
   "execution_count": 5,
   "metadata": {},
   "outputs": [],
   "source": [
    "batch_size = 100\n",
    "train_loader = torch.utils.data.DataLoader(dataset=train_dataset, batch_size=batch_size, shuffle=True)\n",
    "test_loader = torch.utils.data.DataLoader(dataset=test_dataset, batch_size=batch_size, shuffle=True)"
   ]
  },
  {
   "cell_type": "code",
   "execution_count": 6,
   "metadata": {},
   "outputs": [],
   "source": [
    "batch_size = 100\n",
    "epochs = 200\n",
    "input_dims = 784\n",
    "hidden_dims = 333\n",
    "output_dims = 10\n",
    "gamma = 0.999\n",
    "target_update = 10\n",
    "len_train_dataset = len(train_loader.dataset)"
   ]
  },
  {
   "cell_type": "code",
   "execution_count": 7,
   "metadata": {},
   "outputs": [],
   "source": [
    "n_layers = 3\n",
    "n_width = 2"
   ]
  },
  {
   "cell_type": "code",
   "execution_count": 8,
   "metadata": {},
   "outputs": [],
   "source": [
    "policy_net = DQN(hidden_dims, hidden_dims, n_width).cuda()\n",
    "target_net = DQN(hidden_dims, hidden_dims, n_width).cuda()\n",
    "model = MLNN(n_layers, n_width, input_dims, hidden_dims, output_dims)"
   ]
  },
  {
   "cell_type": "code",
   "execution_count": 9,
   "metadata": {},
   "outputs": [],
   "source": [
    "memory_capacity = 100\n",
    "replay_memory = ReplayMemory(memory_capacity)"
   ]
  },
  {
   "cell_type": "code",
   "execution_count": 10,
   "metadata": {},
   "outputs": [],
   "source": [
    "optimizer = optim.Adam(model.parameters())\n",
    "dqn_optimizer = optim.Adam(policy_net.parameters())\n",
    "criterion = CrossEntropyLoss().cuda()"
   ]
  },
  {
   "cell_type": "code",
   "execution_count": 11,
   "metadata": {},
   "outputs": [],
   "source": [
    "def get_accuracy(model, dqn):\n",
    "    model.eval()\n",
    "    dqn.eval()\n",
    "    \n",
    "    correct = 0.\n",
    "    total = 0.\n",
    "\n",
    "    for images, labels in test_loader:\n",
    "        images = Variable(images.view(-1, 28*28)).cuda()\n",
    "        outputs = model(images, dqn)\n",
    "        _, predicted = torch.max(outputs.data, 1)\n",
    "        total += labels.size(0)\n",
    "        correct+= (predicted.cpu() == labels).sum()\n",
    "\n",
    "    accuracy = 100 * correct.float() / total\n",
    "    \n",
    "    model.train()\n",
    "    dqn.train()\n",
    "    \n",
    "    return accuracy"
   ]
  },
  {
   "cell_type": "code",
   "execution_count": 12,
   "metadata": {},
   "outputs": [
    {
     "name": "stdout",
     "output_type": "stream",
     "text": [
      "0 tensor(1.8841, device='cuda:0') tensor(0.0924, device='cuda:0')\n",
      "1 tensor(1.4953, device='cuda:0') tensor(0.0237, device='cuda:0')\n",
      "2 tensor(1.1790, device='cuda:0') tensor(0.0217, device='cuda:0')\n",
      "3 tensor(0.9955, device='cuda:0') tensor(0.0200, device='cuda:0')\n",
      "4 tensor(0.9591, device='cuda:0') tensor(0.0246, device='cuda:0')\n",
      "5 tensor(0.7184, device='cuda:0') tensor(0.0812, device='cuda:0')\n",
      "6 tensor(0.5481, device='cuda:0') tensor(0.1868, device='cuda:0')\n",
      "7 tensor(0.5282, device='cuda:0') tensor(0.2808, device='cuda:0')\n",
      "8 tensor(0.5197, device='cuda:0') tensor(0.4209, device='cuda:0')\n",
      "9 tensor(0.5075, device='cuda:0') tensor(0.5370, device='cuda:0')\n",
      "10 tensor(0.4972, device='cuda:0') tensor(0.6160, device='cuda:0')\n",
      "11 tensor(0.4909, device='cuda:0') tensor(0.6881, device='cuda:0')\n",
      "12 tensor(0.4853, device='cuda:0') tensor(0.7688, device='cuda:0')\n",
      "13 tensor(0.4799, device='cuda:0') tensor(0.8223, device='cuda:0')\n",
      "14 tensor(0.4784, device='cuda:0') tensor(0.8505, device='cuda:0')\n",
      "15 tensor(0.4756, device='cuda:0') tensor(0.8683, device='cuda:0')\n",
      "16 tensor(0.4739, device='cuda:0') tensor(0.8998, device='cuda:0')\n",
      "17 tensor(0.4710, device='cuda:0') tensor(0.9218, device='cuda:0')\n",
      "18 tensor(0.4717, device='cuda:0') tensor(0.9354, device='cuda:0')\n",
      "19 tensor(0.4706, device='cuda:0') tensor(0.8958, device='cuda:0')\n",
      "20 tensor(0.4686, device='cuda:0') tensor(0.8793, device='cuda:0')\n",
      "21 tensor(0.4668, device='cuda:0') tensor(0.9737, device='cuda:0')\n",
      "22 tensor(0.4661, device='cuda:0') tensor(1.0362, device='cuda:0')\n",
      "23 tensor(0.4653, device='cuda:0') tensor(0.9833, device='cuda:0')\n",
      "24 tensor(0.4651, device='cuda:0') tensor(1.0304, device='cuda:0')\n",
      "25 tensor(0.4628, device='cuda:0') tensor(1.0446, device='cuda:0')\n",
      "26 tensor(0.4628, device='cuda:0') tensor(1.0916, device='cuda:0')\n",
      "27 tensor(0.4623, device='cuda:0') tensor(1.1149, device='cuda:0')\n",
      "28 tensor(0.4610, device='cuda:0') tensor(1.1611, device='cuda:0')\n",
      "29 tensor(0.4617, device='cuda:0') tensor(1.2257, device='cuda:0')\n"
     ]
    }
   ],
   "source": [
    "avg_mlnn_losses = []\n",
    "avg_dqn_losses = []\n",
    "\n",
    "for epoch in range(epochs):\n",
    "    avg_mlnn_loss = 0.\n",
    "    avg_dqn_loss = 0.\n",
    "    \n",
    "    for i, (images, labels) in enumerate(train_loader):\n",
    "        images = Variable(images.view(-1, 28 * 28)).cuda()\n",
    "        labels = Variable(labels).cuda()\n",
    "\n",
    "        outputs = model(images, policy_net)\n",
    "        loss = criterion(outputs, labels)\n",
    "\n",
    "        optimizer.zero_grad()\n",
    "        loss.backward()\n",
    "        optimizer.step()\n",
    "        \n",
    "        model.update_replays(loss)\n",
    "        \n",
    "        avg_mlnn_loss += loss.detach()\n",
    "\n",
    "        for replay in model.get_replays():\n",
    "            replay_memory.push(replay.state, replay.action, replay.next_state, replay.reward)\n",
    "\n",
    "        avg_dqn_loss += optimize_dqn(policy_net, target_net, replay_memory, dqn_optimizer, batch_size, gamma)\n",
    "\n",
    "        if i % target_update == 0:\n",
    "            target_net.load_state_dict(policy_net.state_dict())\n",
    "\n",
    "    avg_mlnn_loss /= float(i)\n",
    "    avg_dqn_loss /= float(i)\n",
    "    \n",
    "    avg_mlnn_losses.append(avg_mlnn_loss)\n",
    "    avg_dqn_losses.append(avg_dqn_loss)\n",
    "    \n",
    "    print(epoch, avg_mlnn_loss.data, avg_dqn_loss.data, model.get_eps_threshold())\n",
    "    \n",
    "    if epoch % 10 == 0:\n",
    "        print(\"accuracy : \", get_accuracy(model, target_net))"
   ]
  },
  {
   "cell_type": "code",
   "execution_count": null,
   "metadata": {},
   "outputs": [],
   "source": [
    "def get_accuracy(model, dqn):\n",
    "    model.eval()\n",
    "    dqn.eval()\n",
    "    \n",
    "    correct = 0.\n",
    "    total = 0.\n",
    "    \n",
    "    path = []\n",
    "\n",
    "    for images, labels in test_loader:\n",
    "        images = Variable(images.view(-1, 28*28)).cuda()\n",
    "        outputs = model(images, dqn)\n",
    "        _, predicted = torch.max(outputs.data, 1)\n",
    "        total += labels.size(0)\n",
    "        correct+= (predicted.cpu() == labels).sum()\n",
    "        path.append(\n",
    "            torch.stack([labels.cpu(), torch.tensor(Transition(*zip(*model.get_replays())).action)]).transpose(0, 1))\n",
    "\n",
    "    accuracy = 100 * correct.float() / total\n",
    "    \n",
    "    model.train()\n",
    "    dqn.train()\n",
    "    \n",
    "    path = torch.cat(path, 0)\n",
    "    \n",
    "    return accuracy, path"
   ]
  },
  {
   "cell_type": "code",
   "execution_count": null,
   "metadata": {},
   "outputs": [],
   "source": [
    "acc, path = get_accuracy(model, policy_net)"
   ]
  },
  {
   "cell_type": "code",
   "execution_count": null,
   "metadata": {},
   "outputs": [],
   "source": [
    "import matplotlib.pyplot as plt"
   ]
  }
 ],
 "metadata": {
  "kernelspec": {
   "display_name": "tf",
   "language": "python",
   "name": "tf"
  },
  "language_info": {
   "codemirror_mode": {
    "name": "ipython",
    "version": 3
   },
   "file_extension": ".py",
   "mimetype": "text/x-python",
   "name": "python",
   "nbconvert_exporter": "python",
   "pygments_lexer": "ipython3",
   "version": "3.6.8"
  }
 },
 "nbformat": 4,
 "nbformat_minor": 2
}
