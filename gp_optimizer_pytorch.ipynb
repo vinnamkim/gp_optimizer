{
 "cells": [
  {
   "cell_type": "code",
   "execution_count": 1,
   "metadata": {},
   "outputs": [],
   "source": [
    "import torch\n",
    "from torch.autograd import Variable\n",
    "import torchvision.transforms as transforms\n",
    "import torchvision.datasets as dsets\n",
    "import numpy as np"
   ]
  },
  {
   "cell_type": "code",
   "execution_count": 2,
   "metadata": {
    "scrolled": true
   },
   "outputs": [],
   "source": [
    "train_dataset = dsets.MNIST(root='./data', train=True, transform=transforms.ToTensor(), download=True)\n",
    "test_dataset = dsets.MNIST(root='./data', train=False, transform=transforms.ToTensor(), download=True)"
   ]
  },
  {
   "cell_type": "code",
   "execution_count": 3,
   "metadata": {},
   "outputs": [],
   "source": [
    "torch.manual_seed(0)\n",
    "torch.cuda.manual_seed(0)\n",
    "np.random.seed(0)"
   ]
  },
  {
   "cell_type": "code",
   "execution_count": 4,
   "metadata": {},
   "outputs": [],
   "source": [
    "batch_size = 100\n",
    "train_loader = torch.utils.data.DataLoader(dataset=train_dataset, batch_size=batch_size, shuffle=False)\n",
    "test_loader = torch.utils.data.DataLoader(dataset=test_dataset, batch_size=batch_size, shuffle=False)"
   ]
  },
  {
   "cell_type": "code",
   "execution_count": 5,
   "metadata": {},
   "outputs": [],
   "source": [
    "class LogisticRegression(torch.nn.Module):\n",
    "    def __init__(self, input_dim, output_dim):\n",
    "        super(LogisticRegression, self).__init__()\n",
    "        self.linear = torch.nn.Linear(input_dim, output_dim)\n",
    "\n",
    "    def forward(self, x):\n",
    "        outputs = self.linear(x)\n",
    "        return outputs"
   ]
  },
  {
   "cell_type": "code",
   "execution_count": 6,
   "metadata": {},
   "outputs": [],
   "source": [
    "batch_size = 100\n",
    "epochs = 30\n",
    "input_dim = 784\n",
    "output_dim = 10\n",
    "lr_rate = 0.05\n",
    "len_train_dataset = len(train_loader.dataset)"
   ]
  },
  {
   "cell_type": "code",
   "execution_count": 7,
   "metadata": {},
   "outputs": [],
   "source": [
    "def get_alt_model_loss(x, y, model, alt_model, criterion, w_set):\n",
    "    alt_losses = []\n",
    "    \n",
    "    for w_reshape in w_set:\n",
    "        for param, alt_param, w in zip(model.parameters(), alt_model.parameters(), w_reshape):\n",
    "            alt_param.data = param.data - lr_rate * (1 + w.data) * param.grad.data\n",
    "            #alt_param.data = param.data - lr_rate * (1) * param.grad.data\n",
    "\n",
    "        alt_outputs = alt_model(x)\n",
    "        alt_loss = criterion(alt_outputs, y)\n",
    "\n",
    "        alt_losses.append(alt_loss)\n",
    "\n",
    "    return torch.tensor(alt_losses)"
   ]
  },
  {
   "cell_type": "code",
   "execution_count": 8,
   "metadata": {},
   "outputs": [],
   "source": [
    "model = LogisticRegression(input_dim, output_dim).cuda()\n",
    "alt_model = LogisticRegression(input_dim, output_dim).cuda()\n",
    "criterion = torch.nn.CrossEntropyLoss().cuda()\n",
    "\n",
    "w_dim = sum([param.shape.numel() for param in model.parameters()])"
   ]
  },
  {
   "cell_type": "code",
   "execution_count": 9,
   "metadata": {},
   "outputs": [],
   "source": [
    "z_dim = 4\n",
    "A = (2 * torch.rand([w_dim, z_dim]) - 1) / (z_dim / 4)\n",
    "z_length = 50\n",
    "z = torch.rand([z_dim, z_length])\n",
    "\n",
    "def seperate_w(w, model):\n",
    "    w_reshape_list = []\n",
    "    num_params = 0\n",
    "    for param in model.parameters():\n",
    "        w_reshape = w[num_params:num_params + param.shape.numel()].reshape_as(param)\n",
    "        w_reshape_list.append(w_reshape)\n",
    "        num_params += param.shape.numel()\n",
    "    \n",
    "    return w_reshape_list\n",
    "\n",
    "def get_w_set(Az, model):\n",
    "    w_set = [seperate_w(Az[:, i].cuda(), model) for i in range(Az.shape[1])]\n",
    "    return w_set\n",
    "\n",
    "w_set = get_w_set(A.mm(z).clamp(min=-0.9), model)\n",
    "\n",
    "init_w = [torch.zeros(w.shape).cuda() for w in w_set[0]]\n",
    "\n",
    "best_w = init_w"
   ]
  },
  {
   "cell_type": "code",
   "execution_count": 10,
   "metadata": {},
   "outputs": [],
   "source": [
    "def show_params(model):\n",
    "    for param in model.parameters():\n",
    "        print(param.data)"
   ]
  },
  {
   "cell_type": "code",
   "execution_count": 11,
   "metadata": {},
   "outputs": [],
   "source": [
    "import torch\n",
    "from botorch.models import SingleTaskGP\n",
    "from botorch.fit import fit_gpytorch_model\n",
    "from gpytorch.mlls import ExactMarginalLogLikelihood\n",
    "from botorch.acquisition import qUpperConfidenceBound\n",
    "from botorch.optim import optimize_acqf\n",
    "\n",
    "def get_next_z_set_and_best_z(z, increments):\n",
    "    train_X = z.T.cpu().clone().data\n",
    "    train_Y = increments.reshape([-1, 1]).clone().data\n",
    "\n",
    "    gp = SingleTaskGP(train_X, train_Y)\n",
    "    mll = ExactMarginalLogLikelihood(gp.likelihood, gp)\n",
    "    fit_gpytorch_model(mll)\n",
    "\n",
    "    qUCB = qUpperConfidenceBound(gp, beta=0.1)\n",
    "\n",
    "    bounds = torch.stack([torch.zeros(4), torch.ones(4)])\n",
    "    candidates, acq_value = optimize_acqf(\n",
    "        qUCB, bounds=bounds, q=50, num_restarts=20, raw_samples=512,\n",
    "    )\n",
    "    print(\"increment : {0:.7f}\".format(increments.max().item()))\n",
    "    return candidates, z.T[increments.argmax()]"
   ]
  },
  {
   "cell_type": "code",
   "execution_count": 12,
   "metadata": {
    "scrolled": true
   },
   "outputs": [
    {
     "name": "stderr",
     "output_type": "stream",
     "text": [
      "C:\\Users\\Samsung\\Anaconda2\\envs\\tf\\lib\\site-packages\\gpytorch\\utils\\cholesky.py:42: RuntimeWarning: A not p.d., added jitter of 1e-06 to the diagonal\n",
      "  warnings.warn(f\"A not p.d., added jitter of {jitter_new} to the diagonal\", RuntimeWarning)\n"
     ]
    },
    {
     "name": "stdout",
     "output_type": "stream",
     "text": [
      "increment : 0.0014180\n",
      "0 tensor(0.6582, device='cuda:0')\n",
      "increment : 0.0003770\n",
      "1 tensor(0.4060, device='cuda:0')\n"
     ]
    },
    {
     "name": "stderr",
     "output_type": "stream",
     "text": [
      "C:\\Users\\Samsung\\Anaconda2\\envs\\tf\\lib\\site-packages\\gpytorch\\utils\\cholesky.py:42: RuntimeWarning: A not p.d., added jitter of 1e-06 to the diagonal\n",
      "  warnings.warn(f\"A not p.d., added jitter of {jitter_new} to the diagonal\", RuntimeWarning)\n"
     ]
    },
    {
     "name": "stdout",
     "output_type": "stream",
     "text": [
      "increment : 0.0008743\n",
      "2 tensor(0.3663, device='cuda:0')\n"
     ]
    },
    {
     "name": "stderr",
     "output_type": "stream",
     "text": [
      "C:\\Users\\Samsung\\Anaconda2\\envs\\tf\\lib\\site-packages\\gpytorch\\utils\\cholesky.py:42: RuntimeWarning: A not p.d., added jitter of 1e-06 to the diagonal\n",
      "  warnings.warn(f\"A not p.d., added jitter of {jitter_new} to the diagonal\", RuntimeWarning)\n"
     ]
    },
    {
     "name": "stdout",
     "output_type": "stream",
     "text": [
      "increment : 0.0009732\n",
      "3 tensor(0.3466, device='cuda:0')\n"
     ]
    },
    {
     "name": "stderr",
     "output_type": "stream",
     "text": [
      "C:\\Users\\Samsung\\Anaconda2\\envs\\tf\\lib\\site-packages\\gpytorch\\utils\\cholesky.py:42: RuntimeWarning: A not p.d., added jitter of 1e-06 to the diagonal\n",
      "  warnings.warn(f\"A not p.d., added jitter of {jitter_new} to the diagonal\", RuntimeWarning)\n"
     ]
    },
    {
     "name": "stdout",
     "output_type": "stream",
     "text": [
      "increment : 0.0006287\n",
      "4 tensor(0.3339, device='cuda:0')\n",
      "increment : 0.0009145\n",
      "5 tensor(0.3246, device='cuda:0')\n"
     ]
    },
    {
     "name": "stderr",
     "output_type": "stream",
     "text": [
      "C:\\Users\\Samsung\\Anaconda2\\envs\\tf\\lib\\site-packages\\gpytorch\\utils\\cholesky.py:42: RuntimeWarning: A not p.d., added jitter of 1e-06 to the diagonal\n",
      "  warnings.warn(f\"A not p.d., added jitter of {jitter_new} to the diagonal\", RuntimeWarning)\n"
     ]
    },
    {
     "name": "stdout",
     "output_type": "stream",
     "text": [
      "increment : 0.0008106\n",
      "6 tensor(0.3176, device='cuda:0')\n"
     ]
    },
    {
     "name": "stderr",
     "output_type": "stream",
     "text": [
      "C:\\Users\\Samsung\\Anaconda2\\envs\\tf\\lib\\site-packages\\gpytorch\\utils\\cholesky.py:42: RuntimeWarning: A not p.d., added jitter of 1e-06 to the diagonal\n",
      "  warnings.warn(f\"A not p.d., added jitter of {jitter_new} to the diagonal\", RuntimeWarning)\n"
     ]
    },
    {
     "name": "stdout",
     "output_type": "stream",
     "text": [
      "increment : 0.0008059\n",
      "7 tensor(0.3120, device='cuda:0')\n"
     ]
    },
    {
     "name": "stderr",
     "output_type": "stream",
     "text": [
      "C:\\Users\\Samsung\\Anaconda2\\envs\\tf\\lib\\site-packages\\gpytorch\\utils\\cholesky.py:42: RuntimeWarning: A not p.d., added jitter of 1e-06 to the diagonal\n",
      "  warnings.warn(f\"A not p.d., added jitter of {jitter_new} to the diagonal\", RuntimeWarning)\n"
     ]
    },
    {
     "name": "stdout",
     "output_type": "stream",
     "text": [
      "increment : 0.0009599\n",
      "8 tensor(0.3074, device='cuda:0')\n"
     ]
    },
    {
     "name": "stderr",
     "output_type": "stream",
     "text": [
      "C:\\Users\\Samsung\\Anaconda2\\envs\\tf\\lib\\site-packages\\gpytorch\\utils\\cholesky.py:42: RuntimeWarning: A not p.d., added jitter of 1e-06 to the diagonal\n",
      "  warnings.warn(f\"A not p.d., added jitter of {jitter_new} to the diagonal\", RuntimeWarning)\n"
     ]
    },
    {
     "name": "stdout",
     "output_type": "stream",
     "text": [
      "increment : 0.0007889\n",
      "9 tensor(0.3036, device='cuda:0')\n",
      "increment : 0.0009344\n",
      "10 tensor(0.3003, device='cuda:0')\n"
     ]
    },
    {
     "name": "stderr",
     "output_type": "stream",
     "text": [
      "C:\\Users\\Samsung\\Anaconda2\\envs\\tf\\lib\\site-packages\\gpytorch\\utils\\cholesky.py:42: RuntimeWarning: A not p.d., added jitter of 1e-06 to the diagonal\n",
      "  warnings.warn(f\"A not p.d., added jitter of {jitter_new} to the diagonal\", RuntimeWarning)\n"
     ]
    },
    {
     "name": "stdout",
     "output_type": "stream",
     "text": [
      "increment : 0.0005988\n",
      "11 tensor(0.2974, device='cuda:0')\n"
     ]
    },
    {
     "name": "stderr",
     "output_type": "stream",
     "text": [
      "C:\\Users\\Samsung\\Anaconda2\\envs\\tf\\lib\\site-packages\\gpytorch\\utils\\cholesky.py:42: RuntimeWarning: A not p.d., added jitter of 1e-06 to the diagonal\n",
      "  warnings.warn(f\"A not p.d., added jitter of {jitter_new} to the diagonal\", RuntimeWarning)\n"
     ]
    },
    {
     "name": "stdout",
     "output_type": "stream",
     "text": [
      "increment : 0.0007428\n",
      "12 tensor(0.2949, device='cuda:0')\n"
     ]
    },
    {
     "name": "stderr",
     "output_type": "stream",
     "text": [
      "C:\\Users\\Samsung\\Anaconda2\\envs\\tf\\lib\\site-packages\\gpytorch\\utils\\cholesky.py:42: RuntimeWarning: A not p.d., added jitter of 1e-06 to the diagonal\n",
      "  warnings.warn(f\"A not p.d., added jitter of {jitter_new} to the diagonal\", RuntimeWarning)\n"
     ]
    },
    {
     "name": "stdout",
     "output_type": "stream",
     "text": [
      "increment : 0.0009037\n",
      "13 tensor(0.2926, device='cuda:0')\n"
     ]
    },
    {
     "name": "stderr",
     "output_type": "stream",
     "text": [
      "C:\\Users\\Samsung\\Anaconda2\\envs\\tf\\lib\\site-packages\\gpytorch\\utils\\cholesky.py:42: RuntimeWarning: A not p.d., added jitter of 1e-06 to the diagonal\n",
      "  warnings.warn(f\"A not p.d., added jitter of {jitter_new} to the diagonal\", RuntimeWarning)\n"
     ]
    },
    {
     "name": "stdout",
     "output_type": "stream",
     "text": [
      "increment : 0.0006207\n",
      "14 tensor(0.2906, device='cuda:0')\n",
      "increment : 0.0006577\n",
      "15 tensor(0.2887, device='cuda:0')\n"
     ]
    },
    {
     "name": "stderr",
     "output_type": "stream",
     "text": [
      "C:\\Users\\Samsung\\Anaconda2\\envs\\tf\\lib\\site-packages\\gpytorch\\utils\\cholesky.py:42: RuntimeWarning: A not p.d., added jitter of 1e-06 to the diagonal\n",
      "  warnings.warn(f\"A not p.d., added jitter of {jitter_new} to the diagonal\", RuntimeWarning)\n"
     ]
    },
    {
     "name": "stdout",
     "output_type": "stream",
     "text": [
      "increment : 0.0007027\n",
      "16 tensor(0.2870, device='cuda:0')\n"
     ]
    },
    {
     "name": "stderr",
     "output_type": "stream",
     "text": [
      "C:\\Users\\Samsung\\Anaconda2\\envs\\tf\\lib\\site-packages\\gpytorch\\utils\\cholesky.py:42: RuntimeWarning: A not p.d., added jitter of 1e-06 to the diagonal\n",
      "  warnings.warn(f\"A not p.d., added jitter of {jitter_new} to the diagonal\", RuntimeWarning)\n"
     ]
    },
    {
     "name": "stdout",
     "output_type": "stream",
     "text": [
      "increment : 0.0006910\n",
      "17 tensor(0.2855, device='cuda:0')\n"
     ]
    },
    {
     "name": "stderr",
     "output_type": "stream",
     "text": [
      "C:\\Users\\Samsung\\Anaconda2\\envs\\tf\\lib\\site-packages\\gpytorch\\utils\\cholesky.py:42: RuntimeWarning: A not p.d., added jitter of 1e-06 to the diagonal\n",
      "  warnings.warn(f\"A not p.d., added jitter of {jitter_new} to the diagonal\", RuntimeWarning)\n"
     ]
    },
    {
     "name": "stdout",
     "output_type": "stream",
     "text": [
      "increment : 0.0008884\n",
      "18 tensor(0.2840, device='cuda:0')\n"
     ]
    },
    {
     "name": "stderr",
     "output_type": "stream",
     "text": [
      "C:\\Users\\Samsung\\Anaconda2\\envs\\tf\\lib\\site-packages\\gpytorch\\utils\\cholesky.py:42: RuntimeWarning: A not p.d., added jitter of 1e-06 to the diagonal\n",
      "  warnings.warn(f\"A not p.d., added jitter of {jitter_new} to the diagonal\", RuntimeWarning)\n"
     ]
    },
    {
     "name": "stdout",
     "output_type": "stream",
     "text": [
      "increment : 0.0007140\n",
      "19 tensor(0.2827, device='cuda:0')\n"
     ]
    },
    {
     "name": "stderr",
     "output_type": "stream",
     "text": [
      "C:\\Users\\Samsung\\Anaconda2\\envs\\tf\\lib\\site-packages\\gpytorch\\utils\\cholesky.py:42: RuntimeWarning: A not p.d., added jitter of 1e-06 to the diagonal\n",
      "  warnings.warn(f\"A not p.d., added jitter of {jitter_new} to the diagonal\", RuntimeWarning)\n"
     ]
    },
    {
     "name": "stdout",
     "output_type": "stream",
     "text": [
      "increment : 0.0008529\n",
      "20 tensor(0.2815, device='cuda:0')\n"
     ]
    },
    {
     "name": "stderr",
     "output_type": "stream",
     "text": [
      "C:\\Users\\Samsung\\Anaconda2\\envs\\tf\\lib\\site-packages\\gpytorch\\utils\\cholesky.py:42: RuntimeWarning: A not p.d., added jitter of 1e-06 to the diagonal\n",
      "  warnings.warn(f\"A not p.d., added jitter of {jitter_new} to the diagonal\", RuntimeWarning)\n"
     ]
    },
    {
     "name": "stdout",
     "output_type": "stream",
     "text": [
      "increment : 0.0006391\n",
      "21 tensor(0.2804, device='cuda:0')\n",
      "increment : 0.0006983\n",
      "22 tensor(0.2793, device='cuda:0')\n",
      "increment : 0.0007433\n",
      "23 tensor(0.2783, device='cuda:0')\n"
     ]
    },
    {
     "name": "stderr",
     "output_type": "stream",
     "text": [
      "C:\\Users\\Samsung\\Anaconda2\\envs\\tf\\lib\\site-packages\\gpytorch\\utils\\cholesky.py:42: RuntimeWarning: A not p.d., added jitter of 1e-06 to the diagonal\n",
      "  warnings.warn(f\"A not p.d., added jitter of {jitter_new} to the diagonal\", RuntimeWarning)\n"
     ]
    },
    {
     "name": "stdout",
     "output_type": "stream",
     "text": [
      "increment : 0.0006349\n",
      "24 tensor(0.2773, device='cuda:0')\n"
     ]
    },
    {
     "name": "stderr",
     "output_type": "stream",
     "text": [
      "C:\\Users\\Samsung\\Anaconda2\\envs\\tf\\lib\\site-packages\\gpytorch\\utils\\cholesky.py:42: RuntimeWarning: A not p.d., added jitter of 1e-06 to the diagonal\n",
      "  warnings.warn(f\"A not p.d., added jitter of {jitter_new} to the diagonal\", RuntimeWarning)\n"
     ]
    },
    {
     "name": "stdout",
     "output_type": "stream",
     "text": [
      "increment : 0.0006304\n",
      "25 tensor(0.2765, device='cuda:0')\n"
     ]
    },
    {
     "name": "stderr",
     "output_type": "stream",
     "text": [
      "C:\\Users\\Samsung\\Anaconda2\\envs\\tf\\lib\\site-packages\\gpytorch\\utils\\cholesky.py:42: RuntimeWarning: A not p.d., added jitter of 1e-06 to the diagonal\n",
      "  warnings.warn(f\"A not p.d., added jitter of {jitter_new} to the diagonal\", RuntimeWarning)\n"
     ]
    },
    {
     "name": "stdout",
     "output_type": "stream",
     "text": [
      "increment : 0.0003627\n",
      "26 tensor(0.2757, device='cuda:0')\n",
      "increment : 0.0006879\n",
      "27 tensor(0.2748, device='cuda:0')\n",
      "increment : 0.0001444\n",
      "28 tensor(0.2742, device='cuda:0')\n"
     ]
    },
    {
     "name": "stderr",
     "output_type": "stream",
     "text": [
      "C:\\Users\\Samsung\\Anaconda2\\envs\\tf\\lib\\site-packages\\gpytorch\\utils\\cholesky.py:42: RuntimeWarning: A not p.d., added jitter of 1e-06 to the diagonal\n",
      "  warnings.warn(f\"A not p.d., added jitter of {jitter_new} to the diagonal\", RuntimeWarning)\n"
     ]
    },
    {
     "name": "stdout",
     "output_type": "stream",
     "text": [
      "increment : 0.0007406\n",
      "29 tensor(0.2733, device='cuda:0')\n"
     ]
    }
   ],
   "source": [
    "results = []\n",
    "for epoch in range(epochs):\n",
    "    avg_loss = 0.\n",
    "    \n",
    "    increments = torch.zeros(z_length)\n",
    "    \n",
    "    for i, (images, labels) in enumerate(train_loader):\n",
    "        images = Variable(images.view(-1, 28 * 28)).cuda()\n",
    "        labels = Variable(labels).cuda()\n",
    "        \n",
    "        outputs = model(images)\n",
    "        loss = criterion(outputs, labels)\n",
    "\n",
    "        model.zero_grad()\n",
    "        loss.backward()\n",
    "        \n",
    "        avg_loss += loss / (len_train_dataset / batch_size)\n",
    "        \n",
    "        with torch.no_grad():\n",
    "            alt_losses = get_alt_model_loss(images, labels, model, alt_model, criterion, w_set)\n",
    "            #show_params(alt_model)\n",
    "            for w, param in zip(best_w, model.parameters()):\n",
    "                param.data -= lr_rate * (1 + w.data) * param.grad.data\n",
    "        \n",
    "        with torch.no_grad():\n",
    "            outputs = model(images)\n",
    "            loss = criterion(outputs, labels)\n",
    "            #show_params(model)\n",
    "        \n",
    "        #print(loss, alt_losses)\n",
    "        increments += (loss.cpu() - alt_losses) / (len_train_dataset / batch_size)\n",
    "        \n",
    "        #print(alt_losses)\n",
    "    results.append(avg_loss)\n",
    "    \n",
    "    z_set, best_z = get_next_z_set_and_best_z(z, increments)\n",
    "    w_set = get_w_set(A.mm(z_set.T).clamp(min=-0.9), model)\n",
    "    best_w = get_w_set(A.mm(best_z.reshape([-1, 1])).clamp(min=-0.9), model)[0]\n",
    "    \n",
    "    print(epoch, avg_loss.data)\n",
    "    "
   ]
  },
  {
   "cell_type": "code",
   "execution_count": 14,
   "metadata": {},
   "outputs": [
    {
     "data": {
      "text/plain": [
       "[<matplotlib.lines.Line2D at 0x267c0e9ae80>]"
      ]
     },
     "execution_count": 14,
     "metadata": {},
     "output_type": "execute_result"
    },
    {
     "data": {
      "image/png": "[encoded data removed]",
      "text/plain": [
       "<Figure size 432x288 with 1 Axes>"
      ]
     },
     "metadata": {
      "needs_background": "light"
     },
     "output_type": "display_data"
    }
   ],
   "source": [
    "import matplotlib.pyplot as plt\n",
    "\n",
    "plt.plot(results)"
   ]
  },
  {
   "cell_type": "code",
   "execution_count": null,
   "metadata": {},
   "outputs": [],
   "source": [
    "correct = 0.\n",
    "total = 0.\n",
    "\n",
    "for images, labels in test_loader:\n",
    "    images = Variable(images.view(-1, 28*28)).cuda()\n",
    "    outputs = model(images)\n",
    "    _, predicted = torch.max(outputs.data, 1)\n",
    "    total += labels.size(0)\n",
    "    correct+= (predicted.cpu() == labels).sum()\n",
    "\n",
    "accuracy = 100 * correct.float() / total"
   ]
  },
  {
   "cell_type": "code",
   "execution_count": null,
   "metadata": {},
   "outputs": [],
   "source": [
    "accuracy"
   ]
  }
 ],
 "metadata": {
  "kernelspec": {
   "display_name": "tf",
   "language": "python",
   "name": "tf"
  },
  "language_info": {
   "codemirror_mode": {
    "name": "ipython",
    "version": 3
   },
   "file_extension": ".py",
   "mimetype": "text/x-python",
   "name": "python",
   "nbconvert_exporter": "python",
   "pygments_lexer": "ipython3",
   "version": "3.6.8"
  }
 },
 "nbformat": 4,
 "nbformat_minor": 2
}
