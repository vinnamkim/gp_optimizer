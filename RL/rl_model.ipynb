{
 "cells": [
  {
   "cell_type": "code",
   "execution_count": 1,
   "metadata": {},
   "outputs": [],
   "source": [
    "import torch\n",
    "from torch.autograd import Variable\n",
    "import torchvision.transforms as transforms\n",
    "import torchvision.datasets as dsets\n",
    "import numpy as np\n",
    "from torch import optim\n",
    "from torch.nn import CrossEntropyLoss"
   ]
  },
  {
   "cell_type": "code",
   "execution_count": 2,
   "metadata": {},
   "outputs": [],
   "source": [
    "from dqn import DQN\n",
    "from torch.nn.functional import smooth_l1_loss\n",
    "from mlnn import MLNN\n",
    "from replay_memory import ReplayMemory, Transition\n",
    "from training import optimize_dqn\n",
    "import random"
   ]
  },
  {
   "cell_type": "code",
   "execution_count": 3,
   "metadata": {
    "scrolled": true
   },
   "outputs": [],
   "source": [
    "train_dataset = dsets.MNIST(root='./data', train=True, transform=transforms.ToTensor(), download=True)\n",
    "test_dataset = dsets.MNIST(root='./data', train=False, transform=transforms.ToTensor(), download=True)"
   ]
  },
  {
   "cell_type": "code",
   "execution_count": 4,
   "metadata": {},
   "outputs": [],
   "source": [
    "torch.manual_seed(0)\n",
    "torch.cuda.manual_seed(0)\n",
    "np.random.seed(0)\n",
    "random.seed(0)"
   ]
  },
  {
   "cell_type": "code",
   "execution_count": 5,
   "metadata": {},
   "outputs": [],
   "source": [
    "batch_size = 100\n",
    "train_loader = torch.utils.data.DataLoader(dataset=train_dataset, batch_size=batch_size, shuffle=True)\n",
    "test_loader = torch.utils.data.DataLoader(dataset=test_dataset, batch_size=batch_size, shuffle=True)"
   ]
  },
  {
   "cell_type": "code",
   "execution_count": 6,
   "metadata": {},
   "outputs": [],
   "source": [
    "batch_size = 100\n",
    "epochs = 200\n",
    "input_dims = 784\n",
    "hidden_dims = 333\n",
    "output_dims = 10\n",
    "gamma = 0.999\n",
    "target_update = 10\n",
    "len_train_dataset = len(train_loader.dataset)"
   ]
  },
  {
   "cell_type": "code",
   "execution_count": 7,
   "metadata": {},
   "outputs": [],
   "source": [
    "n_layers = 3\n",
    "n_width = 2"
   ]
  },
  {
   "cell_type": "code",
   "execution_count": 8,
   "metadata": {},
   "outputs": [],
   "source": [
    "policy_net = DQN(hidden_dims, hidden_dims, n_width).cuda()\n",
    "target_net = DQN(hidden_dims, hidden_dims, n_width).cuda()\n",
    "model = MLNN(n_layers, n_width, input_dims, hidden_dims, output_dims)"
   ]
  },
  {
   "cell_type": "code",
   "execution_count": 9,
   "metadata": {},
   "outputs": [],
   "source": [
    "memory_capacity = 100\n",
    "replay_memory = ReplayMemory(memory_capacity)"
   ]
  },
  {
   "cell_type": "code",
   "execution_count": 10,
   "metadata": {},
   "outputs": [],
   "source": [
    "optimizer = optim.Adam(model.parameters())\n",
    "dqn_optimizer = optim.Adam(policy_net.parameters())\n",
    "criterion = CrossEntropyLoss().cuda()"
   ]
  },
  {
   "cell_type": "code",
   "execution_count": 11,
   "metadata": {},
   "outputs": [],
   "source": [
    "def get_accuracy(model, dqn):\n",
    "    model.eval()\n",
    "    dqn.eval()\n",
    "    \n",
    "    correct = 0.\n",
    "    total = 0.\n",
    "\n",
    "    for images, labels in test_loader:\n",
    "        images = Variable(images.view(-1, 28*28)).cuda()\n",
    "        outputs = model(images, dqn)\n",
    "        _, predicted = torch.max(outputs.data, 1)\n",
    "        total += labels.size(0)\n",
    "        correct+= (predicted.cpu() == labels).sum()\n",
    "\n",
    "    accuracy = 100 * correct.float() / total\n",
    "    \n",
    "    model.train()\n",
    "    dqn.train()\n",
    "    \n",
    "    return accuracy"
   ]
  },
  {
   "cell_type": "code",
   "execution_count": 12,
   "metadata": {},
   "outputs": [
    {
     "name": "stdout",
     "output_type": "stream",
     "text": [
      "0 tensor(0.2009, device='cuda:0') tensor(0.2662, device='cuda:0') 0.09231900811268436\n",
      "accuracy :  tensor(96.7500)\n",
      "1 tensor(0.0840, device='cuda:0') tensor(0.0812, device='cuda:0') 0.051277923314030936\n",
      "2 tensor(0.0566, device='cuda:0') tensor(0.0575, device='cuda:0') 0.05006362405540455\n",
      "3 tensor(0.0407, device='cuda:0') tensor(0.0513, device='cuda:0') 0.050003167655196266\n",
      "4 tensor(0.0339, device='cuda:0') tensor(0.0515, device='cuda:0') 0.050000157708265824\n",
      "5 tensor(0.0290, device='cuda:0') tensor(0.0507, device='cuda:0') 0.050000007851832215\n",
      "6 tensor(0.0216, device='cuda:0') tensor(0.0527, device='cuda:0') 0.05000000039091971\n",
      "7 tensor(0.0196, device='cuda:0') tensor(0.0583, device='cuda:0') 0.05000000001946275\n",
      "8 tensor(0.0167, device='cuda:0') tensor(0.0659, device='cuda:0') 0.050000000000969\n",
      "9 tensor(0.0142, device='cuda:0') tensor(0.0718, device='cuda:0') 0.05000000000004825\n",
      "10 tensor(0.0131, device='cuda:0') tensor(0.0871, device='cuda:0') 0.050000000000002404\n",
      "accuracy :  tensor(98.1500)\n",
      "11 tensor(0.0131, device='cuda:0') tensor(0.1034, device='cuda:0') 0.05000000000000007\n",
      "12 tensor(0.0122, device='cuda:0') tensor(0.1248, device='cuda:0') 0.05000000000000001\n",
      "13 tensor(0.0108, device='cuda:0') tensor(0.1464, device='cuda:0') 0.05\n",
      "14 tensor(0.0093, device='cuda:0') tensor(0.1551, device='cuda:0') 0.05\n",
      "15 tensor(0.0086, device='cuda:0') tensor(0.1522, device='cuda:0') 0.05\n",
      "16 tensor(0.0088, device='cuda:0') tensor(0.1446, device='cuda:0') 0.05\n",
      "17 tensor(0.0079, device='cuda:0') tensor(0.1368, device='cuda:0') 0.05\n",
      "18 tensor(0.0087, device='cuda:0') tensor(0.1348, device='cuda:0') 0.05\n",
      "19 tensor(0.0073, device='cuda:0') tensor(0.1321, device='cuda:0') 0.05\n",
      "20 tensor(0.0066, device='cuda:0') tensor(0.1281, device='cuda:0') 0.05\n",
      "accuracy :  tensor(98.0400)\n",
      "21 tensor(0.0060, device='cuda:0') tensor(0.1241, device='cuda:0') 0.05\n",
      "22 tensor(0.0062, device='cuda:0') tensor(0.1212, device='cuda:0') 0.05\n",
      "23 tensor(0.0063, device='cuda:0') tensor(0.1228, device='cuda:0') 0.05\n",
      "24 tensor(0.0045, device='cuda:0') tensor(0.1231, device='cuda:0') 0.05\n",
      "25 tensor(0.0050, device='cuda:0') tensor(0.1267, device='cuda:0') 0.05\n",
      "26 tensor(0.0080, device='cuda:0') tensor(0.1372, device='cuda:0') 0.05\n",
      "27 tensor(0.0053, device='cuda:0') tensor(0.1395, device='cuda:0') 0.05\n",
      "28 tensor(0.0049, device='cuda:0') tensor(0.1407, device='cuda:0') 0.05\n",
      "29 tensor(0.0050, device='cuda:0') tensor(0.1403, device='cuda:0') 0.05\n",
      "30 tensor(0.0049, device='cuda:0') tensor(0.1385, device='cuda:0') 0.05\n",
      "accuracy :  tensor(98.1900)\n",
      "31 tensor(0.0039, device='cuda:0') tensor(0.1376, device='cuda:0') 0.05\n",
      "32 tensor(0.0037, device='cuda:0') tensor(0.1362, device='cuda:0') 0.05\n",
      "33 tensor(0.0036, device='cuda:0') tensor(0.1349, device='cuda:0') 0.05\n",
      "34 tensor(0.0043, device='cuda:0') tensor(0.1404, device='cuda:0') 0.05\n",
      "35 tensor(0.0045, device='cuda:0') tensor(0.1418, device='cuda:0') 0.05\n",
      "36 tensor(0.0039, device='cuda:0') tensor(0.1392, device='cuda:0') 0.05\n",
      "37 tensor(0.0040, device='cuda:0') tensor(0.1405, device='cuda:0') 0.05\n",
      "38 tensor(0.0030, device='cuda:0') tensor(0.1409, device='cuda:0') 0.05\n",
      "39 tensor(0.0033, device='cuda:0') tensor(0.1422, device='cuda:0') 0.05\n",
      "40 tensor(0.0040, device='cuda:0') tensor(0.1433, device='cuda:0') 0.05\n",
      "accuracy :  tensor(98.1100)\n",
      "41 tensor(0.0032, device='cuda:0') tensor(0.1430, device='cuda:0') 0.05\n",
      "42 tensor(0.0031, device='cuda:0') tensor(0.1471, device='cuda:0') 0.05\n",
      "43 tensor(0.0032, device='cuda:0') tensor(0.1451, device='cuda:0') 0.05\n",
      "44 tensor(0.0035, device='cuda:0') tensor(0.1402, device='cuda:0') 0.05\n",
      "45 tensor(0.0025, device='cuda:0') tensor(0.1390, device='cuda:0') 0.05\n",
      "46 tensor(0.0036, device='cuda:0') tensor(0.1376, device='cuda:0') 0.05\n",
      "47 tensor(0.0037, device='cuda:0') tensor(0.1322, device='cuda:0') 0.05\n",
      "48 tensor(0.0029, device='cuda:0') tensor(0.1299, device='cuda:0') 0.05\n",
      "49 tensor(0.0021, device='cuda:0') tensor(0.1211, device='cuda:0') 0.05\n",
      "50 tensor(0.0027, device='cuda:0') tensor(0.1177, device='cuda:0') 0.05\n",
      "accuracy :  tensor(98.2000)\n",
      "51 tensor(0.0025, device='cuda:0') tensor(0.1161, device='cuda:0') 0.05\n",
      "52 tensor(0.0030, device='cuda:0') tensor(0.1131, device='cuda:0') 0.05\n",
      "53 tensor(0.0026, device='cuda:0') tensor(0.1063, device='cuda:0') 0.05\n",
      "54 tensor(0.0037, device='cuda:0') tensor(0.1016, device='cuda:0') 0.05\n",
      "55 tensor(0.0030, device='cuda:0') tensor(0.0996, device='cuda:0') 0.05\n",
      "56 tensor(0.0036, device='cuda:0') tensor(0.0936, device='cuda:0') 0.05\n",
      "57 tensor(0.0015, device='cuda:0') tensor(0.0882, device='cuda:0') 0.05\n",
      "58 tensor(0.0022, device='cuda:0') tensor(0.0876, device='cuda:0') 0.05\n",
      "59 tensor(0.0018, device='cuda:0') tensor(0.0838, device='cuda:0') 0.05\n",
      "60 tensor(0.0016, device='cuda:0') tensor(0.0787, device='cuda:0') 0.05\n",
      "accuracy :  tensor(98.2900)\n",
      "61 tensor(0.0034, device='cuda:0') tensor(0.0777, device='cuda:0') 0.05\n",
      "62 tensor(0.0036, device='cuda:0') tensor(0.0745, device='cuda:0') 0.05\n",
      "63 tensor(0.0026, device='cuda:0') tensor(0.0684, device='cuda:0') 0.05\n",
      "64 tensor(0.0023, device='cuda:0') tensor(0.0645, device='cuda:0') 0.05\n",
      "65 tensor(0.0026, device='cuda:0') tensor(0.0623, device='cuda:0') 0.05\n",
      "66 tensor(0.0020, device='cuda:0') tensor(0.0607, device='cuda:0') 0.05\n",
      "67 tensor(0.0022, device='cuda:0') tensor(0.0583, device='cuda:0') 0.05\n",
      "68 tensor(0.0023, device='cuda:0') tensor(0.0558, device='cuda:0') 0.05\n",
      "69 tensor(0.0016, device='cuda:0') tensor(0.0530, device='cuda:0') 0.05\n",
      "70 tensor(0.0024, device='cuda:0') tensor(0.0532, device='cuda:0') 0.05\n",
      "accuracy :  tensor(98.3400)\n",
      "71 tensor(0.0027, device='cuda:0') tensor(0.0513, device='cuda:0') 0.05\n",
      "72 tensor(0.0036, device='cuda:0') tensor(0.0502, device='cuda:0') 0.05\n",
      "73 tensor(0.0015, device='cuda:0') tensor(0.0491, device='cuda:0') 0.05\n",
      "74 tensor(0.0027, device='cuda:0') tensor(0.0483, device='cuda:0') 0.05\n",
      "75 tensor(0.0007, device='cuda:0') tensor(0.0459, device='cuda:0') 0.05\n",
      "76 tensor(0.0015, device='cuda:0') tensor(0.0444, device='cuda:0') 0.05\n",
      "77 tensor(0.0021, device='cuda:0') tensor(0.0433, device='cuda:0') 0.05\n",
      "78 tensor(0.0045, device='cuda:0') tensor(0.0422, device='cuda:0') 0.05\n",
      "79 tensor(0.0021, device='cuda:0') tensor(0.0401, device='cuda:0') 0.05\n",
      "80 tensor(0.0022, device='cuda:0') tensor(0.0371, device='cuda:0') 0.05\n",
      "accuracy :  tensor(98.2700)\n",
      "81 tensor(0.0014, device='cuda:0') tensor(0.0359, device='cuda:0') 0.05\n",
      "82 tensor(0.0029, device='cuda:0') tensor(0.0342, device='cuda:0') 0.05\n",
      "83 tensor(0.0023, device='cuda:0') tensor(0.0328, device='cuda:0') 0.05\n",
      "84 tensor(0.0019, device='cuda:0') tensor(0.0316, device='cuda:0') 0.05\n",
      "85 tensor(0.0016, device='cuda:0') tensor(0.0285, device='cuda:0') 0.05\n",
      "86 tensor(0.0011, device='cuda:0') tensor(0.0268, device='cuda:0') 0.05\n",
      "87 tensor(0.0008, device='cuda:0') tensor(0.0259, device='cuda:0') 0.05\n",
      "88 tensor(0.0009, device='cuda:0') tensor(0.0250, device='cuda:0') 0.05\n",
      "89 tensor(0.0015, device='cuda:0') tensor(0.0237, device='cuda:0') 0.05\n",
      "90 tensor(0.0023, device='cuda:0') tensor(0.0227, device='cuda:0') 0.05\n",
      "accuracy :  tensor(98.2500)\n",
      "91 tensor(0.0014, device='cuda:0') tensor(0.0217, device='cuda:0') 0.05\n",
      "92 tensor(0.0017, device='cuda:0') tensor(0.0205, device='cuda:0') 0.05\n",
      "93 tensor(0.0013, device='cuda:0') tensor(0.0205, device='cuda:0') 0.05\n",
      "94 tensor(0.0019, device='cuda:0') tensor(0.0186, device='cuda:0') 0.05\n",
      "95 tensor(0.0019, device='cuda:0') tensor(0.0170, device='cuda:0') 0.05\n",
      "96 tensor(0.0024, device='cuda:0') tensor(0.0164, device='cuda:0') 0.05\n",
      "97 tensor(0.0020, device='cuda:0') tensor(0.0166, device='cuda:0') 0.05\n",
      "98 tensor(0.0018, device='cuda:0') tensor(0.0146, device='cuda:0') 0.05\n",
      "99 tensor(0.0015, device='cuda:0') tensor(0.0136, device='cuda:0') 0.05\n",
      "100 tensor(0.0019, device='cuda:0') tensor(0.0137, device='cuda:0') 0.05\n",
      "accuracy :  tensor(98.1700)\n",
      "101 tensor(0.0009, device='cuda:0') tensor(0.0139, device='cuda:0') 0.05\n",
      "102 tensor(0.0014, device='cuda:0') tensor(0.0122, device='cuda:0') 0.05\n",
      "103 tensor(0.0016, device='cuda:0') tensor(0.0119, device='cuda:0') 0.05\n",
      "104 tensor(0.0019, device='cuda:0') tensor(0.0114, device='cuda:0') 0.05\n",
      "105 tensor(0.0013, device='cuda:0') tensor(0.0111, device='cuda:0') 0.05\n",
      "106 tensor(0.0010, device='cuda:0') tensor(0.0103, device='cuda:0') 0.05\n"
     ]
    },
    {
     "name": "stdout",
     "output_type": "stream",
     "text": [
      "107 tensor(0.0009, device='cuda:0') tensor(0.0101, device='cuda:0') 0.05\n",
      "108 tensor(0.0020, device='cuda:0') tensor(0.0095, device='cuda:0') 0.05\n",
      "109 tensor(0.0024, device='cuda:0') tensor(0.0095, device='cuda:0') 0.05\n",
      "110 tensor(0.0012, device='cuda:0') tensor(0.0094, device='cuda:0') 0.05\n",
      "accuracy :  tensor(98.1400)\n",
      "111 tensor(0.0018, device='cuda:0') tensor(0.0082, device='cuda:0') 0.05\n",
      "112 tensor(0.0013, device='cuda:0') tensor(0.0079, device='cuda:0') 0.05\n",
      "113 tensor(0.0009, device='cuda:0') tensor(0.0076, device='cuda:0') 0.05\n",
      "114 tensor(0.0011, device='cuda:0') tensor(0.0071, device='cuda:0') 0.05\n",
      "115 tensor(0.0012, device='cuda:0') tensor(0.0070, device='cuda:0') 0.05\n",
      "116 tensor(0.0014, device='cuda:0') tensor(0.0065, device='cuda:0') 0.05\n",
      "117 tensor(0.0026, device='cuda:0') tensor(0.0075, device='cuda:0') 0.05\n",
      "118 tensor(0.0025, device='cuda:0') tensor(0.0063, device='cuda:0') 0.05\n",
      "119 tensor(0.0007, device='cuda:0') tensor(0.0067, device='cuda:0') 0.05\n",
      "120 tensor(0.0008, device='cuda:0') tensor(0.0059, device='cuda:0') 0.05\n",
      "accuracy :  tensor(98.2500)\n",
      "121 tensor(0.0009, device='cuda:0') tensor(0.0053, device='cuda:0') 0.05\n",
      "122 tensor(0.0012, device='cuda:0') tensor(0.0060, device='cuda:0') 0.05\n",
      "123 tensor(0.0020, device='cuda:0') tensor(0.0055, device='cuda:0') 0.05\n",
      "124 tensor(0.0025, device='cuda:0') tensor(0.0052, device='cuda:0') 0.05\n",
      "125 tensor(0.0018, device='cuda:0') tensor(0.0060, device='cuda:0') 0.05\n",
      "126 tensor(0.0014, device='cuda:0') tensor(0.0051, device='cuda:0') 0.05\n",
      "127 tensor(0.0015, device='cuda:0') tensor(0.0048, device='cuda:0') 0.05\n",
      "128 tensor(0.0014, device='cuda:0') tensor(0.0046, device='cuda:0') 0.05\n",
      "129 tensor(0.0016, device='cuda:0') tensor(0.0047, device='cuda:0') 0.05\n",
      "130 tensor(0.0014, device='cuda:0') tensor(0.0053, device='cuda:0') 0.05\n",
      "accuracy :  tensor(98.2000)\n",
      "131 tensor(0.0015, device='cuda:0') tensor(0.0043, device='cuda:0') 0.05\n",
      "132 tensor(0.0009, device='cuda:0') tensor(0.0043, device='cuda:0') 0.05\n",
      "133 tensor(0.0015, device='cuda:0') tensor(0.0039, device='cuda:0') 0.05\n",
      "134 tensor(0.0010, device='cuda:0') tensor(0.0046, device='cuda:0') 0.05\n",
      "135 tensor(0.0019, device='cuda:0') tensor(0.0042, device='cuda:0') 0.05\n",
      "136 tensor(0.0016, device='cuda:0') tensor(0.0039, device='cuda:0') 0.05\n",
      "137 tensor(0.0010, device='cuda:0') tensor(0.0040, device='cuda:0') 0.05\n",
      "138 tensor(0.0016, device='cuda:0') tensor(0.0038, device='cuda:0') 0.05\n",
      "139 tensor(0.0012, device='cuda:0') tensor(0.0037, device='cuda:0') 0.05\n",
      "140 tensor(0.0010, device='cuda:0') tensor(0.0040, device='cuda:0') 0.05\n",
      "accuracy :  tensor(98.1900)\n",
      "141 tensor(0.0015, device='cuda:0') tensor(0.0036, device='cuda:0') 0.05\n",
      "142 tensor(0.0011, device='cuda:0') tensor(0.0036, device='cuda:0') 0.05\n",
      "143 tensor(0.0016, device='cuda:0') tensor(0.0037, device='cuda:0') 0.05\n",
      "144 tensor(0.0014, device='cuda:0') tensor(0.0034, device='cuda:0') 0.05\n",
      "145 tensor(0.0012, device='cuda:0') tensor(0.0040, device='cuda:0') 0.05\n",
      "146 tensor(0.0015, device='cuda:0') tensor(0.0040, device='cuda:0') 0.05\n",
      "147 tensor(0.0015, device='cuda:0') tensor(0.0035, device='cuda:0') 0.05\n",
      "148 tensor(0.0010, device='cuda:0') tensor(0.0036, device='cuda:0') 0.05\n",
      "149 tensor(0.0017, device='cuda:0') tensor(0.0034, device='cuda:0') 0.05\n",
      "150 tensor(0.0015, device='cuda:0') tensor(0.0034, device='cuda:0') 0.05\n",
      "accuracy :  tensor(98.2100)\n",
      "151 tensor(0.0011, device='cuda:0') tensor(0.0041, device='cuda:0') 0.05\n",
      "152 tensor(0.0010, device='cuda:0') tensor(0.0029, device='cuda:0') 0.05\n",
      "153 tensor(0.0004, device='cuda:0') tensor(0.0037, device='cuda:0') 0.05\n",
      "154 tensor(0.0011, device='cuda:0') tensor(0.0037, device='cuda:0') 0.05\n",
      "155 tensor(0.0020, device='cuda:0') tensor(0.0034, device='cuda:0') 0.05\n",
      "156 tensor(0.0011, device='cuda:0') tensor(0.0034, device='cuda:0') 0.05\n",
      "157 tensor(0.0012, device='cuda:0') tensor(0.0038, device='cuda:0') 0.05\n",
      "158 tensor(0.0018, device='cuda:0') tensor(0.0041, device='cuda:0') 0.05\n",
      "159 tensor(0.0019, device='cuda:0') tensor(0.0034, device='cuda:0') 0.05\n",
      "160 tensor(0.0017, device='cuda:0') tensor(0.0034, device='cuda:0') 0.05\n",
      "accuracy :  tensor(98.2200)\n",
      "161 tensor(0.0007, device='cuda:0') tensor(0.0041, device='cuda:0') 0.05\n",
      "162 tensor(0.0006, device='cuda:0') tensor(0.0034, device='cuda:0') 0.05\n",
      "163 tensor(0.0010, device='cuda:0') tensor(0.0036, device='cuda:0') 0.05\n",
      "164 tensor(0.0016, device='cuda:0') tensor(0.0039, device='cuda:0') 0.05\n",
      "165 tensor(0.0013, device='cuda:0') tensor(0.0033, device='cuda:0') 0.05\n",
      "166 tensor(0.0018, device='cuda:0') tensor(0.0034, device='cuda:0') 0.05\n",
      "167 tensor(0.0018, device='cuda:0') tensor(0.0036, device='cuda:0') 0.05\n",
      "168 tensor(0.0013, device='cuda:0') tensor(0.0038, device='cuda:0') 0.05\n",
      "169 tensor(0.0011, device='cuda:0') tensor(0.0034, device='cuda:0') 0.05\n",
      "170 tensor(0.0011, device='cuda:0') tensor(0.0041, device='cuda:0') 0.05\n",
      "accuracy :  tensor(98.1300)\n",
      "171 tensor(0.0006, device='cuda:0') tensor(0.0033, device='cuda:0') 0.05\n",
      "172 tensor(0.0006, device='cuda:0') tensor(0.0042, device='cuda:0') 0.05\n",
      "173 tensor(0.0007, device='cuda:0') tensor(0.0034, device='cuda:0') 0.05\n",
      "174 tensor(0.0019, device='cuda:0') tensor(0.0035, device='cuda:0') 0.05\n",
      "175 tensor(0.0018, device='cuda:0') tensor(0.0045, device='cuda:0') 0.05\n",
      "176 tensor(0.0013, device='cuda:0') tensor(0.0041, device='cuda:0') 0.05\n",
      "177 tensor(0.0018, device='cuda:0') tensor(0.0041, device='cuda:0') 0.05\n",
      "178 tensor(0.0009, device='cuda:0') tensor(0.0034, device='cuda:0') 0.05\n",
      "179 tensor(0.0007, device='cuda:0') tensor(0.0033, device='cuda:0') 0.05\n",
      "180 tensor(0.0008, device='cuda:0') tensor(0.0037, device='cuda:0') 0.05\n",
      "accuracy :  tensor(98.3300)\n",
      "181 tensor(0.0011, device='cuda:0') tensor(0.0038, device='cuda:0') 0.05\n",
      "182 tensor(0.0011, device='cuda:0') tensor(0.0036, device='cuda:0') 0.05\n",
      "183 tensor(0.0007, device='cuda:0') tensor(0.0040, device='cuda:0') 0.05\n",
      "184 tensor(0.0012, device='cuda:0') tensor(0.0039, device='cuda:0') 0.05\n",
      "185 tensor(0.0016, device='cuda:0') tensor(0.0037, device='cuda:0') 0.05\n",
      "186 tensor(0.0013, device='cuda:0') tensor(0.0041, device='cuda:0') 0.05\n",
      "187 tensor(0.0010, device='cuda:0') tensor(0.0037, device='cuda:0') 0.05\n",
      "188 tensor(0.0013, device='cuda:0') tensor(0.0045, device='cuda:0') 0.05\n",
      "189 tensor(0.0012, device='cuda:0') tensor(0.0036, device='cuda:0') 0.05\n",
      "190 tensor(0.0010, device='cuda:0') tensor(0.0034, device='cuda:0') 0.05\n",
      "accuracy :  tensor(98.1300)\n",
      "191 tensor(0.0006, device='cuda:0') tensor(0.0042, device='cuda:0') 0.05\n",
      "192 tensor(0.0008, device='cuda:0') tensor(0.0038, device='cuda:0') 0.05\n",
      "193 tensor(0.0012, device='cuda:0') tensor(0.0038, device='cuda:0') 0.05\n",
      "194 tensor(0.0012, device='cuda:0') tensor(0.0036, device='cuda:0') 0.05\n",
      "195 tensor(0.0009, device='cuda:0') tensor(0.0043, device='cuda:0') 0.05\n",
      "196 tensor(0.0009, device='cuda:0') tensor(0.0040, device='cuda:0') 0.05\n",
      "197 tensor(0.0013, device='cuda:0') tensor(0.0038, device='cuda:0') 0.05\n",
      "198 tensor(0.0009, device='cuda:0') tensor(0.0041, device='cuda:0') 0.05\n",
      "199 tensor(0.0013, device='cuda:0') tensor(0.0044, device='cuda:0') 0.05\n"
     ]
    }
   ],
   "source": [
    "avg_mlnn_losses = []\n",
    "avg_dqn_losses = []\n",
    "\n",
    "for epoch in range(epochs):\n",
    "    avg_mlnn_loss = 0.\n",
    "    avg_dqn_loss = 0.\n",
    "    \n",
    "    for i, (images, labels) in enumerate(train_loader):\n",
    "        images = Variable(images.view(-1, 28 * 28)).cuda()\n",
    "        labels = Variable(labels).cuda()\n",
    "\n",
    "        outputs = model(images, policy_net)\n",
    "        loss = criterion(outputs, labels)\n",
    "\n",
    "        optimizer.zero_grad()\n",
    "        loss.backward()\n",
    "        optimizer.step()\n",
    "        \n",
    "        model.update_replays(labels, loss, output_dims)\n",
    "        \n",
    "        avg_mlnn_loss += loss.detach()\n",
    "\n",
    "        for replay in model.get_replays():\n",
    "            replay_memory.push(replay.state, replay.action, replay.next_state, replay.reward)\n",
    "\n",
    "        avg_dqn_loss += optimize_dqn(policy_net, target_net, replay_memory, dqn_optimizer, batch_size, gamma)\n",
    "\n",
    "    avg_mlnn_loss /= float(i)\n",
    "    avg_dqn_loss /= float(i)\n",
    "    \n",
    "    avg_mlnn_losses.append(avg_mlnn_loss)\n",
    "    avg_dqn_losses.append(avg_dqn_loss)\n",
    "    \n",
    "    print(epoch, avg_mlnn_loss.data, avg_dqn_loss.data, model.get_eps_threshold())\n",
    "    \n",
    "    if epoch % 10 == 0:\n",
    "        print(\"accuracy : \", get_accuracy(model, target_net))\n"
   ]
  },
  {
   "cell_type": "code",
   "execution_count": 13,
   "metadata": {},
   "outputs": [],
   "source": [
    "def get_accuracy(model, dqn):\n",
    "    model.eval()\n",
    "    dqn.eval()\n",
    "    \n",
    "    correct = 0.\n",
    "    total = 0.\n",
    "    \n",
    "    path = []\n",
    "\n",
    "    for images, labels in test_loader:\n",
    "        images = Variable(images.view(-1, 28*28)).cuda()\n",
    "        outputs = model(images, dqn)\n",
    "        _, predicted = torch.max(outputs.data, 1)\n",
    "        total += labels.size(0)\n",
    "        correct+= (predicted.cpu() == labels).sum()\n",
    "        path.append(\n",
    "            torch.stack([labels.cpu(), torch.tensor(Transition(*zip(*model.get_replays())).action)]).transpose(0, 1))\n",
    "\n",
    "    accuracy = 100 * correct.float() / total\n",
    "    \n",
    "    model.train()\n",
    "    dqn.train()\n",
    "    \n",
    "    path = torch.cat(path, 0)\n",
    "    \n",
    "    return accuracy, path"
   ]
  },
  {
   "cell_type": "code",
   "execution_count": 14,
   "metadata": {},
   "outputs": [],
   "source": [
    "acc, path = get_accuracy(model, policy_net)"
   ]
  },
  {
   "cell_type": "code",
   "execution_count": 16,
   "metadata": {},
   "outputs": [],
   "source": [
    "import matplotlib.pyplot as plt"
   ]
  },
  {
   "cell_type": "markdown",
   "metadata": {},
   "source": [
    "# DQN's layer selection for labels of the test set"
   ]
  },
  {
   "cell_type": "code",
   "execution_count": 41,
   "metadata": {},
   "outputs": [
    {
     "data": {
      "image/png": "[encoded data removed]",
      "text/plain": [
       "<Figure size 432x288 with 1 Axes>"
      ]
     },
     "metadata": {
      "needs_background": "light"
     },
     "output_type": "display_data"
    },
    {
     "data": {
      "image/png": "[encoded data removed]",
      "text/plain": [
       "<Figure size 432x288 with 1 Axes>"
      ]
     },
     "metadata": {
      "needs_background": "light"
     },
     "output_type": "display_data"
    },
    {
     "data": {
      "image/png": "[encoded data removed]",
      "text/plain": [
       "<Figure size 432x288 with 1 Axes>"
      ]
     },
     "metadata": {
      "needs_background": "light"
     },
     "output_type": "display_data"
    },
    {
     "data": {
      "image/png": "[encoded data removed]",
      "text/plain": [
       "<Figure size 432x288 with 1 Axes>"
      ]
     },
     "metadata": {
      "needs_background": "light"
     },
     "output_type": "display_data"
    },
    {
     "data": {
      "image/png": "[encoded data removed]",
      "text/plain": [
       "<Figure size 432x288 with 1 Axes>"
      ]
     },
     "metadata": {
      "needs_background": "light"
     },
     "output_type": "display_data"
    },
    {
     "data": {
      "image/png": "[encoded data removed]",
      "text/plain": [
       "<Figure size 432x288 with 1 Axes>"
      ]
     },
     "metadata": {
      "needs_background": "light"
     },
     "output_type": "display_data"
    },
    {
     "data": {
      "image/png": "[encoded data removed]",
      "text/plain": [
       "<Figure size 432x288 with 1 Axes>"
      ]
     },
     "metadata": {
      "needs_background": "light"
     },
     "output_type": "display_data"
    },
    {
     "data": {
      "image/png": "[encoded data removed]",
      "text/plain": [
       "<Figure size 432x288 with 1 Axes>"
      ]
     },
     "metadata": {
      "needs_background": "light"
     },
     "output_type": "display_data"
    },
    {
     "data": {
      "image/png": "[encoded data removed]",
      "text/plain": [
       "<Figure size 432x288 with 1 Axes>"
      ]
     },
     "metadata": {
      "needs_background": "light"
     },
     "output_type": "display_data"
    },
    {
     "data": {
      "image/png": "[encoded data removed]",
      "text/plain": [
       "<Figure size 432x288 with 1 Axes>"
      ]
     },
     "metadata": {
      "needs_background": "light"
     },
     "output_type": "display_data"
    }
   ],
   "source": [
    "for i in range(10):\n",
    "    plt.hist(path[path[:, 0] == i, 1], bins=2)\n",
    "    plt.title(\"Label : {0}\".format(i))\n",
    "    plt.xticks([0, 1])\n",
    "    plt.xlabel(\"Labels\")\n",
    "    plt.ylabel(\"Frequency\")\n",
    "    plt.show()"
   ]
  },
  {
   "cell_type": "code",
   "execution_count": 35,
   "metadata": {},
   "outputs": [
    {
     "data": {
      "text/plain": [
       "tensor([3, 5, 8,  ..., 8, 8, 5])"
      ]
     },
     "execution_count": 35,
     "metadata": {},
     "output_type": "execute_result"
    }
   ],
   "source": [
    "path[path[:, 1] == 0, 0]"
   ]
  },
  {
   "cell_type": "code",
   "execution_count": 40,
   "metadata": {},
   "outputs": [
    {
     "data": {
      "image/png": "[encoded data removed]",
      "text/plain": [
       "<Figure size 432x288 with 1 Axes>"
      ]
     },
     "metadata": {
      "needs_background": "light"
     },
     "output_type": "display_data"
    },
    {
     "data": {
      "image/png": "[encoded data removed]",
      "text/plain": [
       "<Figure size 432x288 with 1 Axes>"
      ]
     },
     "metadata": {
      "needs_background": "light"
     },
     "output_type": "display_data"
    }
   ],
   "source": [
    "for i in range(2):\n",
    "    plt.hist(path[path[:, 1] == i, 0], bins=10)\n",
    "    plt.title(\"Layer : {0}\".format(i))\n",
    "    plt.xticks([x for x in range(10)])\n",
    "    plt.xlabel(\"Labels\")\n",
    "    plt.ylabel(\"Frequency\")\n",
    "    plt.show()"
   ]
  },
  {
   "cell_type": "code",
   "execution_count": null,
   "metadata": {},
   "outputs": [],
   "source": []
  }
 ],
 "metadata": {
  "kernelspec": {
   "display_name": "Python 3",
   "language": "python",
   "name": "python3"
  },
  "language_info": {
   "codemirror_mode": {
    "name": "ipython",
    "version": 3
   },
   "file_extension": ".py",
   "mimetype": "text/x-python",
   "name": "python",
   "nbconvert_exporter": "python",
   "pygments_lexer": "ipython3",
   "version": "3.6.8"
  }
 },
 "nbformat": 4,
 "nbformat_minor": 2
}
